{
 "cells": [
  {
   "cell_type": "code",
   "execution_count": 18,
   "metadata": {},
   "outputs": [],
   "source": [
    "# Thresholding technique to erase handwritten text\n",
    "import cv2\n",
    "import numpy as np\n",
    "\n",
    "# Load the image\n",
    "ori = cv2.imread('test1.png')\n",
    "image = cv2.imread('test1.png')\n",
    "alpha = 0.7  # Contrast\n",
    "beta = 10    # Brightness\n",
    "\n",
    "# Applying contrast and brightness\n",
    "g_image = cv2.convertScaleAbs(image, alpha=alpha, beta=beta)\n",
    "\n",
    "# Convert the image to grayscale\n",
    "gray = cv2.cvtColor(image, cv2.COLOR_BGR2GRAY)\n",
    "\n",
    "# Apply a binary inverse threshold to isolate the handwriting\n",
    "_, thresholded = cv2.threshold(gray, 90, 255, cv2.THRESH_BINARY_INV)\n",
    "\n",
    "# Find contours of the handwriting\n",
    "contours, _ = cv2.findContours(thresholded, cv2.RETR_EXTERNAL, cv2.CHAIN_APPROX_SIMPLE)\n",
    "\n",
    "# Draw white over the contours to \"erase\" the handwriting\n",
    "for contour in contours:\n",
    "    if cv2.contourArea(contour) > 30:  # You can adjust this value as needed\n",
    "        cv2.drawContours(image, [contour], -1, (255, 255, 255), thickness=cv2.FILLED)\n",
    "\n",
    "# Invert the colors\n",
    "inverted_image = cv2.bitwise_not(image)\n",
    "\n",
    "# Save and display the result\n",
    "cv2.imwrite('test.png', inverted_image)\n",
    "cv2.imshow('Handwriting Removed and Inverted', inverted_image)\n",
    "cv2.imshow('Before', ori) # Original Image\n",
    "cv2.waitKey(0)\n",
    "cv2.destroyAllWindows()\n"
   ]
  }
 ],
 "metadata": {
  "kernelspec": {
   "display_name": "Python 3",
   "language": "python",
   "name": "python3"
  },
  "language_info": {
   "codemirror_mode": {
    "name": "ipython",
    "version": 3
   },
   "file_extension": ".py",
   "mimetype": "text/x-python",
   "name": "python",
   "nbconvert_exporter": "python",
   "pygments_lexer": "ipython3",
   "version": "3.12.4"
  }
 },
 "nbformat": 4,
 "nbformat_minor": 2
}
