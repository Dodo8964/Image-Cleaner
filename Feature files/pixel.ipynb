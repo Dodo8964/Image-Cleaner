{
 "cells": [
  {
   "cell_type": "code",
   "execution_count": 1,
   "metadata": {},
   "outputs": [],
   "source": [
    "import cv2\n",
    "import numpy as np\n",
    "\n",
    "def enhance_contrast(image_path, output_path, alpha=1.5, beta=0):\n",
    "    # Load the image\n",
    "    image = cv2.imread(image_path)\n",
    "    \n",
    "    # Convert the image to grayscale\n",
    "    gray_image = cv2.cvtColor(image, cv2.COLOR_BGR2GRAY)\n",
    "    \n",
    "    # Apply contrast adjustment\n",
    "    contrasted_image = cv2.convertScaleAbs(gray_image, alpha=alpha, beta=beta)\n",
    "    \n",
    "    # Apply a binary threshold to make lighter text more pronounced\n",
    "    # We use THRESH_BINARY to make light areas more pronounced and dark areas less pronounced\n",
    "    _, thresholded_image = cv2.threshold(contrasted_image, 127, 255, cv2.THRESH_BINARY)\n",
    "    \n",
    "    # Invert the thresholded image to highlight the lighter text in white\n",
    "    thresholded_image = cv2.bitwise_not(thresholded_image)\n",
    "    \n",
    "    # Save the output image\n",
    "    cv2.imwrite(output_path, thresholded_image)\n",
    "    \n",
    "    # Display the results\n",
    "    cv2.imshow('Original Image', image)\n",
    "    cv2.imshow('Enhanced Contrast Image', thresholded_image)\n",
    "    cv2.waitKey(0)\n",
    "    cv2.destroyAllWindows()\n",
    "\n",
    "# Experiment with different alpha and beta values\n",
    "enhance_contrast('test1.png', 'output_image1.jpg', alpha=10.0, beta=20)\n"
   ]
  }
 ],
 "metadata": {
  "kernelspec": {
   "display_name": "Python 3",
   "language": "python",
   "name": "python3"
  },
  "language_info": {
   "codemirror_mode": {
    "name": "ipython",
    "version": 3
   },
   "file_extension": ".py",
   "mimetype": "text/x-python",
   "name": "python",
   "nbconvert_exporter": "python",
   "pygments_lexer": "ipython3",
   "version": "3.12.4"
  }
 },
 "nbformat": 4,
 "nbformat_minor": 2
}
