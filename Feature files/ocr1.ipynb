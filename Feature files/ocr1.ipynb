{
 "cells": [
  {
   "cell_type": "code",
   "execution_count": 4,
   "metadata": {},
   "outputs": [],
   "source": [
    "# Ocr pipeline\n",
    "import pytesseract as pyt\n",
    "import cv2\n",
    "\n",
    "img = cv2.imread(\"C:\\\\Users\\\\Harshith\\\\OneDrive\\\\Desktop\\\\prac2\\\\testing images\\\\test5.jpg\") # Image path\n",
    "pyt.pytesseract.tesseract_cmd = \"C:\\\\Program Files (x86)\\\\Tesseract-OCR\\\\tesseract.exe\" # Install pytesseract and set path of exe file post installation"
   ]
  },
  {
   "cell_type": "code",
   "execution_count": 5,
   "metadata": {},
   "outputs": [
    {
     "name": "stdout",
     "output_type": "stream",
     "text": [
      " \n",
      "\n",
      "IV. Determinacién\n",
      "\n",
      " \n",
      "\n",
      "Con base n Ia revision anterior, I s miembros del equip del TEP concluyen gu\n",
      "\n",
      "- 1a mals condacta del estudiante NO fue una manifesscidn de to disapacidad del etudiante, (sto i\n",
      "Tas respuestas a lis: os preguntas de a Seccidn 1 fucn NO)\n",
      "La mals conducta del estudiante fue una manifestacion deta discapocided del estudiante\n",
      "\n",
      "V. Informacion adicional\n",
      "\n",
      "__ Reunién \"c equipo programada: Fecha'y hora _\n",
      "~ Additional se necesiton datos de comportamicnto (Quitn es el resp nsable? _\n",
      "- Behavior Plan de Itervencion que s elaborard, aplint 0 uno)\n",
      "\n",
      "4Quitn es el responsable? ___..\n",
      "School puede reforir al estudiante n un entorno alterative provisional de 45 dias (disponible solo para\n",
      "\n",
      "incidentes de lestones corporates graves, delitos de drogas y armas)\n",
      "\n",
      " \n",
      "\n",
      " \n",
      "\n",
      "   \n",
      "\n",
      "VL Firma de los adres\n",
      "\n",
      "Y*_ tte recibido uns notificxcin de Garantfas Processles el dfs on que se tom n deciion de tomar\n",
      "ipidas discilinaris que imp liquen un cambio do ubicacion {34 CFR 523(@)0)]\n",
      "Histoy de acuerdo con Ia\n",
      "No estoy de acuerdo con la determinacidn. N contestaré hasta que vea el papeleo\n",
      "\n",
      "    \n",
      "\n",
      " \n",
      "\n",
      " \n",
      "\n",
      "Firma de spades __VE. Flon\n",
      "\n",
      "Firma del _.\n",
      "\n",
      "  \n",
      " \n",
      "\n",
      " \n",
      "\n",
      " \n",
      "\n",
      "  \n",
      "\n",
      "\n"
     ]
    }
   ],
   "source": [
    "text = pyt.image_to_string(img)\n",
    "print(text)"
   ]
  },
  {
   "cell_type": "code",
   "execution_count": 6,
   "metadata": {},
   "outputs": [
    {
     "name": "stdout",
     "output_type": "stream",
     "text": [
      "IV. Determinacién\n",
      " \n",
      "Con base n Ia revision anterior, I s miembros del equip del TEP concluyen gu\n",
      "- 1a mals condacta del estudiante NO fue una manifesscidn de to disapacidad del etudiante, (sto i\n",
      "Tas respuestas a lis: os preguntas de a Seccidn 1 fucn NO)\n",
      "La mals conducta del estudiante fue una manifestacion deta discapocided del estudiante\n",
      "V. Informacion adicional\n",
      "__ Reunién \"c equipo programada: Fecha'y hora _\n",
      "~ Additional se necesiton datos de comportamicnto (Quitn es el resp nsable? _\n",
      "- Behavior Plan de Itervencion que s elaborard, aplint 0 uno)\n",
      "4Quitn es el responsable? ___..\n",
      "School puede reforir al estudiante n un entorno alterative provisional de 45 dias (disponible solo para\n",
      "incidentes de lestones corporates graves, delitos de drogas y armas)\n",
      " \n",
      " \n",
      "   \n",
      "VL Firma de los adres\n",
      "Y*_ tte recibido uns notificxcin de Garantfas Processles el dfs on que se tom n deciion de tomar\n",
      "ipidas discilinaris que imp liquen un cambio do ubicacion {34 CFR 523(@)0)]\n",
      "Histoy de acuerdo con Ia\n",
      "No estoy de acuerdo con la determinacidn. N contestaré hasta que vea el papeleo\n",
      "    \n",
      " \n",
      " \n",
      "Firma de spades __VE. Flon\n",
      "Firma del _.\n"
     ]
    }
   ],
   "source": [
    "import re\n",
    "text = re.sub(r'\\n+', '\\n', text).strip() # Removal of extra lines\n",
    "print(text)"
   ]
  },
  {
   "cell_type": "code",
   "execution_count": 8,
   "metadata": {},
   "outputs": [],
   "source": [
    "from fpdf import FPDF\n",
    "pdf = FPDF()\n",
    "\n",
    "# Add a page\n",
    "pdf.add_page()\n"
   ]
  },
  {
   "cell_type": "code",
   "execution_count": 9,
   "metadata": {},
   "outputs": [],
   "source": [
    "pdf.set_font(\"Arial\", size=12)"
   ]
  },
  {
   "cell_type": "code",
   "execution_count": 10,
   "metadata": {},
   "outputs": [
    {
     "name": "stdout",
     "output_type": "stream",
     "text": [
      "PDF created successfully!\n"
     ]
    }
   ],
   "source": [
    "pdf.multi_cell(0, 10, txt=text)\n",
    "\n",
    "# Save the PDF with a name\n",
    "pdf.output(\"output_text1.pdf\")\n",
    "\n",
    "print(\"PDF created successfully!\")"
   ]
  }
 ],
 "metadata": {
  "kernelspec": {
   "display_name": "Python 3",
   "language": "python",
   "name": "python3"
  },
  "language_info": {
   "codemirror_mode": {
    "name": "ipython",
    "version": 3
   },
   "file_extension": ".py",
   "mimetype": "text/x-python",
   "name": "python",
   "nbconvert_exporter": "python",
   "pygments_lexer": "ipython3",
   "version": "3.12.4"
  }
 },
 "nbformat": 4,
 "nbformat_minor": 2
}
