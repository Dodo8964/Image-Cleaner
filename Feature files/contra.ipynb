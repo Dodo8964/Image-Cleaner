{
 "cells": [
  {
   "cell_type": "code",
   "execution_count": 51,
   "metadata": {},
   "outputs": [],
   "source": [
    "import cv2\n",
    "\n",
    "# Load the image\n",
    "image = cv2.imread('test1.png')\n",
    "\n",
    "# Define alpha (contrast) and beta (brightness)\n",
    "alpha = 0.9  # Increase contrast significantly, you can experiment with higher values if needed\n",
    "beta = 0     # Adjust brightness, keep it at 0 initially\n",
    "\n",
    "# Apply the contrast and brightness adjustments\n",
    "enhanced_image = cv2.convertScaleAbs(image, alpha=alpha, beta=beta)\n",
    "\n",
    "# Display the original and enhanced images\n",
    "cv2.imshow('Original Image', image)\n",
    "cv2.imshow('Enhanced Image', enhanced_image)\n",
    "\n",
    "# Save the enhanced image\n",
    "cv2.imwrite('enhanced_document.jpg', enhanced_image)\n",
    "\n",
    "cv2.waitKey(0)\n",
    "cv2.destroyAllWindows()\n"
   ]
  },
  {
   "cell_type": "code",
   "execution_count": 73,
   "metadata": {},
   "outputs": [],
   "source": [
    "import cv2\n",
    "\n",
    "# Load the image in grayscale\n",
    "image = cv2.imread('test1.png', cv2.IMREAD_GRAYSCALE)\n",
    "\n",
    "# Create a CLAHE object (Contrast Limited Adaptive Histogram Equalization)\n",
    "clahe = cv2.createCLAHE(clipLimit=4.0, tileGridSize=(8, 8))\n",
    "\n",
    "# Apply CLAHE to the grayscale image\n",
    "clahe_image = clahe.apply(image)\n",
    "\n",
    "# Increase contrast to make dark areas significantly darker\n",
    "alpha = 1.5  # Higher alpha increases contrast\n",
    "beta = 0     # No change to brightness\n",
    "darker_image = cv2.convertScaleAbs(clahe_image, alpha=alpha, beta=beta)\n",
    "\n",
    "# Display the original and final images\n",
    "cv2.imshow('Original Image', image)\n",
    "cv2.imshow('Darker Image', darker_image)\n",
    "\n",
    "# Save the final image\n",
    "cv2.imwrite('darker_document.jpg', darker_image)\n",
    "\n",
    "cv2.waitKey(0)\n",
    "cv2.destroyAllWindows()\n"
   ]
  }
 ],
 "metadata": {
  "kernelspec": {
   "display_name": "Python 3",
   "language": "python",
   "name": "python3"
  },
  "language_info": {
   "codemirror_mode": {
    "name": "ipython",
    "version": 3
   },
   "file_extension": ".py",
   "mimetype": "text/x-python",
   "name": "python",
   "nbconvert_exporter": "python",
   "pygments_lexer": "ipython3",
   "version": "3.12.4"
  }
 },
 "nbformat": 4,
 "nbformat_minor": 2
}
